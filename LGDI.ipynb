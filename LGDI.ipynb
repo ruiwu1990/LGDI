{
 "cells": [
  {
   "cell_type": "markdown",
   "metadata": {},
   "source": [
    "# LGDI\n",
    "\n",
    "This jupyter-notebook is used to show how row-based LGDI (can work better if missing value gap size is small) and col-based LGDI (can work better if missing value gap is large) work. These two methods are all based on Reshape Method 3. More details of the algorithms are introduced in our IEEE Sensor journal paper: \"Data Imputation for Multivariate Time Series Sensor Data with Large Gaps of Missing Data\""
   ]
  },
  {
   "cell_type": "code",
   "execution_count": 50,
   "metadata": {},
   "outputs": [],
   "source": [
    "import pandas as pd\n",
    "import numpy as np\n",
    "import matplotlib\n",
    "import matplotlib.pyplot as plt\n",
    "from random import randint\n",
    "from sklearn.metrics import r2_score, mean_squared_error\n",
    "import random\n",
    "\n",
    "\n",
    "from sklearn.impute import SimpleImputer\n",
    "from sklearn.experimental import enable_iterative_imputer\n",
    "from sklearn.impute import IterativeImputer\n",
    "\n",
    "from sklearn.linear_model import BayesianRidge\n",
    "from sklearn.tree import DecisionTreeRegressor\n",
    "from sklearn.ensemble import ExtraTreesRegressor\n",
    "from sklearn.neighbors import KNeighborsRegressor\n",
    "from sklearn.neural_network import MLPRegressor\n",
    "from sklearn.svm import SVR\n",
    "from sklearn.ensemble import GradientBoostingRegressor\n",
    "from sklearn.pipeline import make_pipeline\n",
    "\n",
    "\n",
    "from datetime import datetime\n",
    "from dateutil.parser import parse\n",
    "import os, sys\n",
    "currentdir = os.path.dirname(os.path.realpath('__file__'))\n",
    "parentdir = os.path.dirname(currentdir)\n",
    "sys.path.append(parentdir)\n",
    "\n",
    "from scipy.special import boxcox, inv_boxcox\n",
    "import util\n",
    "\n",
    "# This is used to decide the K of K-fold cross validation\n",
    "CV = 5\n",
    "# decide the missing data for a matrix\n",
    "HOLE_PERCENT = 0.3\n",
    "\n",
    "# for boxcox transformation\n",
    "# Sometimes data transformation can help improve the accuracy\n",
    "LMBDA = 2\n",
    "DATA_TRANSFORM = True\n",
    "\n",
    "# -1 means use first available factor to reshape\n",
    "# or you can mannualy decide the reshape factor\n",
    "RESHAPE_FACTOR = -1\n",
    "# RESHAPE_FACTOR = 10\n",
    "\n",
    "# if ROW_BASED_RESHAPE = False, then this is col-based LGDI\n",
    "# if ROW_BASED_RESHAPE = True, then this is row-based LGDI\n",
    "ROW_BASED_RESHAPE = False\n",
    "\n",
    "# defines which chunk of the CV to visualize\n",
    "VISUALIZE_CHUNK = 1\n",
    "\n",
    "# LGDI is for multivariate data imputation.\n",
    "# this program checks accuracy for the variable with continous\n",
    "# missing gap. COL_NAME = 'q_cms', so we check imputation accuracy\n",
    "# for q_cms because we will create continous missing gap for\n",
    "# q_cms only. Other variable will also have missing values\n",
    "COL_NAME = 'q_cms'\n",
    "\n",
    "# this is the Extreme Event Flag Column in Figure 4.\n",
    "# this can be created with different extreme value detection algorithms\n",
    "COL_THRESHOLD = 'Basic_Threshold'\n",
    "\n",
    "# this is an input parameter for MICE Imputation function\n",
    "MAX_ITER = 10\n",
    "\n",
    "# this is the continous data gap percentage\n",
    "TESTING_PERCENTAGE = 1/float(CV)"
   ]
  },
  {
   "cell_type": "code",
   "execution_count": 56,
   "metadata": {},
   "outputs": [],
   "source": [
    "# In this example we demo how LGDI can be applied to MICE\n",
    "# MICE can have different kernals\n",
    "\n",
    "# KERNEL = DecisionTreeRegressor(max_features='sqrt')\n",
    "# KERNEL = KNeighborsRegressor(n_neighbors=3)\n",
    "# KERNEL = SVR(C=0.5, epsilon=0.25, gamma='scale')\n",
    "# KERNEL = MLPRegressor(learning_rate='adaptive', max_iter=500)\n",
    "KERNEL = GradientBoostingRegressor(loss='squared_error', learning_rate=0.1, n_estimators=100)"
   ]
  },
  {
   "cell_type": "code",
   "execution_count": 57,
   "metadata": {},
   "outputs": [],
   "source": [
    "# We have three sample datasets\n",
    "# todo\n",
    "# df_with_time = pd.read_csv(\"Data/wade.csv\",sep=',')\n",
    "# df_with_time = pd.read_csv(\"Data/Hungerford.csv\",sep=',')\n",
    "df_with_time = pd.read_csv(\"Data/Potash.csv\",sep=',')\n",
    "\n",
    "# we may have some missing values before we create holes and gaps\n",
    "# the estimations of these missing values cannot be compared with ground truth\n",
    "# so we just removed these records\n",
    "# .reset_index() make sure index starting from 0\n",
    "# this will insert the previous index as first col\n",
    "df_no_nan = df_with_time.dropna().reset_index()\n",
    "\n",
    "\n",
    "# In the sample data, the first two cols are index and timestamp\n",
    "# the last col is threshold, we need to remove these three cols\n",
    "df_no_nan_no_time = df_no_nan.iloc[:,2:-1]\n",
    "df_no_nan_no_time_copy = df_no_nan_no_time.copy()"
   ]
  },
  {
   "cell_type": "code",
   "execution_count": 58,
   "metadata": {},
   "outputs": [],
   "source": [
    "# index of all outliers\n",
    "results = {'alarms':[], 'normal':[]}\n",
    "results['alarms'] = df_no_nan.index[df_no_nan[COL_THRESHOLD]==1].tolist()\n",
    "# create normal events index list\n",
    "total_data_size = df_no_nan.shape[0]\n",
    "results['normal'] = np.setdiff1d(range(total_data_size),results['alarms'])\n",
    "\n",
    "# each cross validation data size \n",
    "cv_data_size = int(total_data_size/CV)\n",
    "\n",
    "# this is original dataset with timestamps\n",
    "original = df_with_time.dropna().reset_index()"
   ]
  },
  {
   "cell_type": "code",
   "execution_count": 59,
   "metadata": {
    "scrolled": false
   },
   "outputs": [
    {
     "name": "stdout",
     "output_type": "stream",
     "text": [
      "currently dealing with loop: 0\n",
      "current df shape is:(3160, 11)\n",
      "Qualified factors include: [1580, 790, 632, 395, 316, 158, 79, 40, 20, 10, 8, 5, 4, 2]\n",
      "After reshape, the current shape is:(1580, 22)\n"
     ]
    },
    {
     "name": "stderr",
     "output_type": "stream",
     "text": [
      "/home/ruiwu1990/.local/lib/python3.8/site-packages/sklearn/impute/_iterative.py:699: ConvergenceWarning: [IterativeImputer] Early stopping criterion not reached.\n",
      "  warnings.warn(\n",
      "/home/ruiwu1990/.local/lib/python3.8/site-packages/sklearn/impute/_iterative.py:699: ConvergenceWarning: [IterativeImputer] Early stopping criterion not reached.\n",
      "  warnings.warn(\n"
     ]
    },
    {
     "name": "stdout",
     "output_type": "stream",
     "text": [
      "current R2 is 0.7081782128357743\n",
      "current mse is 0.1891278340500847\n",
      "currently dealing with loop: 1\n",
      "current df shape is:(3160, 11)\n",
      "Qualified factors include: [1580, 790, 632, 395, 316, 158, 79, 40, 20, 10, 8, 5, 4, 2]\n",
      "After reshape, the current shape is:(1580, 22)\n"
     ]
    },
    {
     "name": "stderr",
     "output_type": "stream",
     "text": [
      "/home/ruiwu1990/.local/lib/python3.8/site-packages/sklearn/impute/_iterative.py:699: ConvergenceWarning: [IterativeImputer] Early stopping criterion not reached.\n",
      "  warnings.warn(\n",
      "/home/ruiwu1990/.local/lib/python3.8/site-packages/sklearn/impute/_iterative.py:699: ConvergenceWarning: [IterativeImputer] Early stopping criterion not reached.\n",
      "  warnings.warn(\n"
     ]
    },
    {
     "name": "stdout",
     "output_type": "stream",
     "text": [
      "current R2 is -0.27486365674881874\n",
      "current mse is 0.17222618829939745\n",
      "currently dealing with loop: 2\n",
      "current df shape is:(3160, 11)\n",
      "Qualified factors include: [1580, 790, 632, 395, 316, 158, 79, 40, 20, 10, 8, 5, 4, 2]\n",
      "After reshape, the current shape is:(1580, 22)\n"
     ]
    },
    {
     "name": "stderr",
     "output_type": "stream",
     "text": [
      "/home/ruiwu1990/.local/lib/python3.8/site-packages/sklearn/impute/_iterative.py:699: ConvergenceWarning: [IterativeImputer] Early stopping criterion not reached.\n",
      "  warnings.warn(\n",
      "/home/ruiwu1990/.local/lib/python3.8/site-packages/sklearn/impute/_iterative.py:699: ConvergenceWarning: [IterativeImputer] Early stopping criterion not reached.\n",
      "  warnings.warn(\n"
     ]
    },
    {
     "name": "stdout",
     "output_type": "stream",
     "text": [
      "current R2 is 0.7766987651793078\n",
      "current mse is 0.08837063706344474\n",
      "currently dealing with loop: 3\n",
      "current df shape is:(3160, 11)\n",
      "Qualified factors include: [1580, 790, 632, 395, 316, 158, 79, 40, 20, 10, 8, 5, 4, 2]\n",
      "After reshape, the current shape is:(1580, 22)\n"
     ]
    },
    {
     "name": "stderr",
     "output_type": "stream",
     "text": [
      "/home/ruiwu1990/.local/lib/python3.8/site-packages/sklearn/impute/_iterative.py:699: ConvergenceWarning: [IterativeImputer] Early stopping criterion not reached.\n",
      "  warnings.warn(\n",
      "/home/ruiwu1990/.local/lib/python3.8/site-packages/sklearn/impute/_iterative.py:699: ConvergenceWarning: [IterativeImputer] Early stopping criterion not reached.\n",
      "  warnings.warn(\n"
     ]
    },
    {
     "name": "stdout",
     "output_type": "stream",
     "text": [
      "current R2 is 0.45947171509540663\n",
      "current mse is 0.014675397896466729\n",
      "currently dealing with loop: 4\n",
      "current df shape is:(3160, 11)\n",
      "Qualified factors include: [1580, 790, 632, 395, 316, 158, 79, 40, 20, 10, 8, 5, 4, 2]\n",
      "After reshape, the current shape is:(1580, 22)\n"
     ]
    },
    {
     "name": "stderr",
     "output_type": "stream",
     "text": [
      "/home/ruiwu1990/.local/lib/python3.8/site-packages/sklearn/impute/_iterative.py:699: ConvergenceWarning: [IterativeImputer] Early stopping criterion not reached.\n",
      "  warnings.warn(\n"
     ]
    },
    {
     "name": "stdout",
     "output_type": "stream",
     "text": [
      "current R2 is 0.17461902058064682\n",
      "current mse is 0.011308569226516015\n",
      "average R^2 is:  0.36882081138846334\n",
      "[0.7081782128357743, -0.27486365674881874, 0.7766987651793078, 0.45947171509540663, 0.17461902058064682]\n",
      "average MSE is:  0.09514172530718193\n",
      "[0.1891278340500847, 0.17222618829939745, 0.08837063706344474, 0.014675397896466729, 0.011308569226516015]\n"
     ]
    },
    {
     "name": "stderr",
     "output_type": "stream",
     "text": [
      "/home/ruiwu1990/.local/lib/python3.8/site-packages/sklearn/impute/_iterative.py:699: ConvergenceWarning: [IterativeImputer] Early stopping criterion not reached.\n",
      "  warnings.warn(\n"
     ]
    }
   ],
   "source": [
    "r_2_list = []\n",
    "mse_list = []\n",
    "vis_prediction = []\n",
    "vis_gap = []\n",
    "x_index = []\n",
    "for i in range(CV):\n",
    "    print(\"currently dealing with loop:\", i)\n",
    "    \n",
    "    df_no_nan_no_time_backup = df_no_nan_no_time_copy.copy()\n",
    "    if DATA_TRANSFORM:\n",
    "        # data tranformation\n",
    "        df_no_nan_no_time_backup[COL_NAME] = boxcox(df_no_nan_no_time_backup[COL_NAME],LMBDA)\n",
    "    \n",
    "    # create holes for all variables\n",
    "    util.make_holes_matrix(df_no_nan_no_time_backup,HOLE_PERCENT,COL_NAME)\n",
    "\n",
    "    # start and end of continous missing value gap\n",
    "    start_index = i*cv_data_size\n",
    "    end_index = start_index + cv_data_size\n",
    "\n",
    "\n",
    "    # create holes for normal and extreme events\n",
    "    for index in range(start_index, end_index):\n",
    "        df_no_nan_no_time_backup[COL_NAME].iloc[index] = np.nan\n",
    "\n",
    "\n",
    "    # if one row has an extreme event, then treat this line as extreme event\n",
    "    # if ROW_BASED_RESHAPE == False, this is Col-based LGDI\n",
    "    # the returned qualified factors are just based on total number of rows in a file\n",
    "    # the factor should be better selected based on autocorrelation values\n",
    "    if ROW_BASED_RESHAPE == False:\n",
    "        print('current df shape is:'+str(df_no_nan_no_time_backup.shape))\n",
    "        # reshape\n",
    "        reshape_df, factor = util.ccrm(df_no_nan_no_time_backup, RESHAPE_FACTOR)\n",
    "        reshape_normal_row_index_list, reshape_extreme_row_index_list = util.convert_row_index_col_based_reshape(results['alarms'], factor, df_no_nan_no_time_backup.shape[0])\n",
    "        if len(reshape_normal_row_index_list) != 0:\n",
    "            df_normal = reshape_df.iloc[reshape_normal_row_index_list]\n",
    "            df_extreme = reshape_df.iloc[reshape_extreme_row_index_list]\n",
    "\n",
    "            imp_normal = IterativeImputer(max_iter=MAX_ITER, estimator=KERNEL)\n",
    "            imp_extreme = IterativeImputer(max_iter=MAX_ITER, estimator=KERNEL)\n",
    "\n",
    "            array_filled_normal = imp_normal.fit_transform(df_normal)\n",
    "            array_filled_extreme = imp_extreme.fit_transform(df_extreme)\n",
    "\n",
    "            array_filled = util.combine_normal_extreme(reshape_df.shape[0], reshape_extreme_row_index_list, reshape_normal_row_index_list, array_filled_extreme, array_filled_normal, reshape_df.shape[0],reshape_df.shape[1])\n",
    "        else:\n",
    "            # when no normal events\n",
    "            df_extreme = reshape_df.iloc[reshape_extreme_row_index_list]\n",
    "            imp_extreme = IterativeImputer(max_iter=MAX_ITER, estimator=KERNEL)\n",
    "            array_filled = imp_extreme.fit_transform(df_extreme)\n",
    "\n",
    "        # reverse reshape\n",
    "        df_tmp = pd.DataFrame(array_filled)\n",
    "        original_n1 = df_no_nan_no_time_backup.shape[0]\n",
    "        original_n2 = df_no_nan_no_time_backup.shape[1]\n",
    "        original_df = util.ccrm_reverse(df_tmp, original_n1, original_n2)\n",
    "        array_filled = original_df.to_numpy()\n",
    "    # if ROW_BASED_RESHAPE == True, this is Row-based LGDI\n",
    "    else:\n",
    "        print('current df shape is:'+str(df_no_nan_no_time_backup.shape))\n",
    "        # by default, the minimum factor will be used\n",
    "        # it means the shape will be balanced (row and col number not too small)\n",
    "        reshape_df, factor = util.row_based_reshape(df_no_nan_no_time_backup, RESHAPE_FACTOR)\n",
    "\n",
    "        reshape_normal_row_index_list, reshape_extreme_row_index_list = util.convert_row_index_row_based_reshape(results['alarms'], factor, df_no_nan_no_time_backup.shape[0])\n",
    "\n",
    "        df_normal = reshape_df.iloc[reshape_normal_row_index_list]\n",
    "        df_extreme = reshape_df.iloc[reshape_extreme_row_index_list]\n",
    "\n",
    "        imp_normal = IterativeImputer(max_iter=MAX_ITER, estimator=KERNEL)\n",
    "        imp_extreme = IterativeImputer(max_iter=MAX_ITER, estimator=KERNEL)\n",
    "\n",
    "        array_filled_normal = imp_normal.fit_transform(df_normal)\n",
    "        array_filled_extreme = imp_extreme.fit_transform(df_extreme)\n",
    "\n",
    "        array_filled = util.combine_normal_extreme(reshape_df.shape[0], reshape_extreme_row_index_list, reshape_normal_row_index_list, array_filled_extreme, array_filled_normal, reshape_df.shape[0],reshape_df.shape[1])\n",
    "        # # transpose to avoid multiple holes for the same row\n",
    "        # array_filled = imp.fit_transform(reshape_df.T)\n",
    "        # array_filled = imp.fit_transform(reshape_df)\n",
    "        # reverse reshape\n",
    "        df_tmp = pd.DataFrame(array_filled)\n",
    "        original_n1 = df_no_nan_no_time_backup.shape[0]\n",
    "        original_n2 = df_no_nan_no_time_backup.shape[1]\n",
    "\n",
    "        # original_df = util.row_based_reshape_reverse(df_tmp.T, original_n1, original_n2)\n",
    "        original_df = util.row_based_reshape_reverse(df_tmp, original_n1, original_n2)\n",
    "        array_filled = original_df.to_numpy()\n",
    "\n",
    "\n",
    "    # calculate accuracy between backup and df\n",
    "    ground_truth = []\n",
    "    prediction = []\n",
    "\n",
    "    if DATA_TRANSFORM:\n",
    "        # convert array to float\n",
    "        array_filled = array_filled.astype(float)\n",
    "        # back transformation\n",
    "        # we may generate nan value\n",
    "        array_filled[:,0] = np.nan_to_num(inv_boxcox(array_filled[:,0],LMBDA))\n",
    "        # array_filled[:,0] = array_filled[:,0]*10\n",
    "\n",
    "    for index in range(start_index, end_index):\n",
    "        # rule 1: prediction should be above 0\n",
    "        if array_filled[:,0][index]<0:\n",
    "            prediction.append(0)\n",
    "            array_filled[:,0][index] = 0\n",
    "        else:\n",
    "            prediction.append(array_filled[:,0][index])\n",
    "\n",
    "        ground_truth.append(original[COL_NAME].iloc[index])\n",
    "\n",
    "\n",
    "    tmp_r_2 = r2_score(ground_truth.copy(), prediction.copy())\n",
    "    print(\"current R2 is\", tmp_r_2)\n",
    "    tmp_mse = mean_squared_error(ground_truth.copy(), prediction.copy())\n",
    "    print(\"current mse is\", tmp_mse)\n",
    "    r_2_list.append(tmp_r_2)\n",
    "    mse_list.append(tmp_mse)\n",
    "\n",
    "\n",
    "    if i+1 == VISUALIZE_CHUNK:\n",
    "        x_index = range(start_index, end_index)\n",
    "        vis_prediction = array_filled[:,0].copy()\n",
    "        vis_gap = df_no_nan_no_time_backup[COL_NAME].copy()\n",
    "\n",
    "        \n",
    "# calculate R2 value\n",
    "avg_r2 = sum(r_2_list) / len(r_2_list)\n",
    "print(\"average R^2 is: \", avg_r2)\n",
    "print(r_2_list)\n",
    "# calculate mse value\n",
    "avg_mse = sum(mse_list) / len(mse_list)\n",
    "print(\"average MSE is: \", avg_mse)\n",
    "print(mse_list)\n"
   ]
  },
  {
   "cell_type": "code",
   "execution_count": 60,
   "metadata": {},
   "outputs": [
    {
     "data": {
      "image/png": "[encoded data removed]",
      "text/plain": [
       "<Figure size 432x288 with 1 Axes>"
      ]
     },
     "metadata": {
      "needs_background": "light"
     },
     "output_type": "display_data"
    }
   ],
   "source": [
    "# This cell show the visualization results\n",
    "\n",
    "x_time = util.get_time_stamp_array(original)\n",
    "# original\n",
    "y1 = original[COL_NAME]\n",
    "# with gap\n",
    "y1_gap = vis_gap\n",
    "\n",
    "# filled with predictions\n",
    "y1_filled = vis_prediction \n",
    "\n",
    "# +1 because the last one will be missing if not\n",
    "original_gap_data = df_no_nan[COL_NAME].tolist()[x_index[0]:x_index[-1]+1]\n",
    "\n",
    "# # vis\n",
    "plt.scatter( x_time[x_index], original_gap_data, marker=\"x\", label=COL_NAME+\"_original\")\n",
    "plt.scatter( x_time, y1_gap, marker=\"v\", label=COL_NAME+\"_with_gap\")\n",
    "plt.scatter( x_time[x_index], y1_filled[x_index], marker=\"+\", label=COL_NAME+\"_filled\")\n",
    "plt.xlabel('Time')\n",
    "plt.ylabel('Values')\n",
    "plt.legend()\n",
    "plt.show()"
   ]
  },
  {
   "cell_type": "code",
   "execution_count": null,
   "metadata": {},
   "outputs": [],
   "source": []
  }
 ],
 "metadata": {
  "kernelspec": {
   "display_name": "Python 3",
   "language": "python",
   "name": "python3"
  },
  "language_info": {
   "codemirror_mode": {
    "name": "ipython",
    "version": 3
   },
   "file_extension": ".py",
   "mimetype": "text/x-python",
   "name": "python",
   "nbconvert_exporter": "python",
   "pygments_lexer": "ipython3",
   "version": "3.8.10"
  }
 },
 "nbformat": 4,
 "nbformat_minor": 4
}
